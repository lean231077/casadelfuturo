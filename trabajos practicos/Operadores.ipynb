{
 "cells": [
  {
   "cell_type": "markdown",
   "metadata": {},
   "source": [
    "## Operadores - Actividad"
   ]
  },
  {
   "cell_type": "markdown",
   "metadata": {},
   "source": [
    "1) Pedir al usuario dos números y mostrar por pantalla la suma de ellos."
   ]
  },
  {
   "cell_type": "code",
   "execution_count": 4,
   "metadata": {},
   "outputs": [
    {
     "name": "stdout",
     "output_type": "stream",
     "text": [
      "5\n"
     ]
    }
   ],
   "source": [
    "a= input (\"ingrese numero uno :\" )\n",
    "b= input (\"ingrese el segundo numero:\")\n",
    "resultado= int (a)+ int (b)\n",
    "print (resultado )\n"
   ]
  },
  {
   "cell_type": "markdown",
   "metadata": {},
   "source": [
    "2) Calcular el perímetro y área de un rectángulo dada su base y su altura (el usuario debe introducir por teclado los dos valores)."
   ]
  },
  {
   "cell_type": "code",
   "execution_count": 3,
   "metadata": {},
   "outputs": [
    {
     "name": "stdout",
     "output_type": "stream",
     "text": [
      " el perimetro es: 10\n",
      " el area es: 6\n"
     ]
    }
   ],
   "source": [
    "#Perimetro = 2 base + 2 altura\n",
    "#Area = base x altura\n",
    "\n",
    "base= int (input (\"ingrese la base del rectangulo:\"))\n",
    "altura = int (input (\"ingrese altura del rectángulo:\"))\n",
    "perimetro= 2* (base + altura)\n",
    "area= base * altura\n",
    "print(\" el perimetro es:\", perimetro)\n",
    "print (\" el area es:\", area)\n",
    "\n"
   ]
  },
  {
   "cell_type": "markdown",
   "metadata": {},
   "source": [
    "3) Calcular el resultado de elevar un número entero a otro número entero (por ejemplo, 5 elevado a 3 = 5^3 = 5*5*5)."
   ]
  },
  {
   "cell_type": "code",
   "execution_count": 5,
   "metadata": {},
   "outputs": [
    {
     "name": "stdout",
     "output_type": "stream",
     "text": [
      "6\n"
     ]
    }
   ],
   "source": [
    "a= 5 ^ 3\n",
    "print(a)"
   ]
  },
  {
   "cell_type": "markdown",
   "metadata": {},
   "source": [
    "4) Escribe un programa que convierta grados Celsius a grados Fahrenheit utilizando la fórmula: **F = (C * 9/5) + 32**"
   ]
  },
  {
   "cell_type": "code",
   "execution_count": 6,
   "metadata": {},
   "outputs": [],
   "source": [
    "#formula f=(c* 9/5) + 32\n",
    "\n",
    "def celsius_a_fahrenheit(celsius):\n",
    "    fahrenheit = (celsius * 9/5) + 32\n",
    "    return fahrenheit"
   ]
  },
  {
   "cell_type": "markdown",
   "metadata": {},
   "source": [
    "5) Pedir al usuario su edad y mostrar por pantalla si es mayor de edad o no. (Mayor de edad >= 18)"
   ]
  },
  {
   "cell_type": "code",
   "execution_count": 6,
   "metadata": {},
   "outputs": [
    {
     "name": "stdout",
     "output_type": "stream",
     "text": [
      "es menor\n"
     ]
    }
   ],
   "source": [
    " \n",
    "mayor_edad = int(input(\"ingrese su edad:\"))\n",
    "if mayor_edad > 18:\n",
    "    print (\"es mayor de edad\")\n",
    "else: \n",
    "    print(\"es menor\")\n",
    "\n",
    "\n",
    "\n"
   ]
  },
  {
   "cell_type": "markdown",
   "metadata": {},
   "source": [
    "6) Comprobar si el numero ingresado por el usuario es par o impar."
   ]
  },
  {
   "cell_type": "code",
   "execution_count": 8,
   "metadata": {},
   "outputs": [
    {
     "name": "stdout",
     "output_type": "stream",
     "text": [
      "el numero es impar\n"
     ]
    }
   ],
   "source": [
    "numero = int (input(\"ingrese un numer\"))\n",
    "if numero%2 == 0:\n",
    "    print(\"el numero es par\")\n",
    "else:\n",
    "    print (\"el numero es impar\")"
   ]
  },
  {
   "cell_type": "markdown",
   "metadata": {},
   "source": [
    "7) Pedir al usuario que ingrese su dirección email y luego mostrar un mensaje indicando si la dirección es válida o no. Una dirección se considerará válida si contiene el símbolo \"@\"."
   ]
  },
  {
   "cell_type": "code",
   "execution_count": 10,
   "metadata": {},
   "outputs": [
    {
     "name": "stdout",
     "output_type": "stream",
     "text": [
      "La dirección de correo electrónico no es válida, falta el símbolo '@'.\n"
     ]
    }
   ],
   "source": [
    "mail = input (\"ingrese su emal\")\n",
    "if '@' in mail:\n",
    "    print(\"La dirección de correo electrónico es válida.\")\n",
    "else:\n",
    "    print(\"La dirección de correo electrónico no es válida, falta el símbolo '@'.\")"
   ]
  },
  {
   "cell_type": "markdown",
   "metadata": {},
   "source": [
    "8) Dado un número de dos cifras, diseñe un algoritmo que permita obtener el número invertido. Ejemplo, si se introduce 23 que muestre 32. (Recordar que las cadenas pueden tratarse como listas de caracteres)."
   ]
  },
  {
   "cell_type": "code",
   "execution_count": 16,
   "metadata": {},
   "outputs": [
    {
     "name": "stdout",
     "output_type": "stream",
     "text": [
      "8\n",
      "El número invertido es: 86\n"
     ]
    }
   ],
   "source": [
    "numero = int(input(\"Por favor, ingresa un número de dos cifras: \"))\n",
    "\n",
    "\n",
    "if numero >= 10 and numero <= 99:\n",
    "    numero1 = numero // 10\n",
    "    numero2 = numero % 10\n",
    "    print (numero2)\n",
    "\n",
    "    \n",
    "    numero_invertido = numero2 * 10 + numero1\n",
    "\n",
    "\n",
    "    print(\"El número invertido es:\", numero_invertido)\n",
    "else:\n",
    "    print(\"El número ingresado no es de dos cifras.\")"
   ]
  },
  {
   "cell_type": "markdown",
   "metadata": {},
   "source": []
  },
  {
   "cell_type": "markdown",
   "metadata": {},
   "source": [
    "9) Crea un programa que pida al usuario dos números y muestre True si ambos son mayores que 10."
   ]
  },
  {
   "cell_type": "code",
   "execution_count": 27,
   "metadata": {},
   "outputs": [
    {
     "name": "stdout",
     "output_type": "stream",
     "text": [
      "false\n"
     ]
    }
   ],
   "source": [
    "numero1= int (input (\"ingresa numero 1:\"))\n",
    "numero2= int (input(\"ingrese numero 2:\"))\n",
    "if numero1 >10 and numero2 > 10:\n",
    "    print (\"true\")\n",
    "else: print(\"false\")\n"
   ]
  },
  {
   "cell_type": "markdown",
   "metadata": {},
   "source": [
    "10) Escribe un programa que verifique si un número ingresado por el usuario es divisible por 3 y por 5."
   ]
  },
  {
   "cell_type": "code",
   "execution_count": 29,
   "metadata": {},
   "outputs": [
    {
     "name": "stdout",
     "output_type": "stream",
     "text": [
      "El número 6 no es divisible por 3 y por 5.\n"
     ]
    }
   ],
   "source": [
    "numero = int(input(\"Ingresa un número: \"))\n",
    "    \n",
    "    \n",
    "if numero % 3 == 0 and numero % 5 == 0:\n",
    "    print(\"El número\", numero, \"es divisible por 3 y por 5.\")\n",
    "else:\n",
    "    print(\"El número\", numero, \"no es divisible por 3 y por 5.\")"
   ]
  },
  {
   "cell_type": "markdown",
   "metadata": {},
   "source": [
    "11) Utilizando la información del punto 5, preguntar al usuario si posee carnet de conducir, luego verificar si puede conducir un automóvil."
   ]
  },
  {
   "cell_type": "code",
   "execution_count": 40,
   "metadata": {},
   "outputs": [
    {
     "name": "stdout",
     "output_type": "stream",
     "text": [
      "Por favor, responde 'Sí' o 'No'.\n",
      "Lo siento, necesitas tener carnet de conducir para poder conducir un automóvil.\n"
     ]
    }
   ],
   "source": [
    "tiene_carnet = input(\"¿Posees carnet de conducir? (Sí/No): \")\n",
    "    \n",
    "    \n",
    "while tiene_carnet not in ['sí', 'si', 'no']:\n",
    "        print(\"Por favor, responde 'Sí' o 'No'.\")\n",
    "        tiene_carnet = input(\"¿Posees carnet de conducir? (Sí/No):\") \n",
    "if tiene_carnet in ['sí', 'si']:\n",
    "        edad = int(input(\"Ingresa tu edad: \"))\n",
    "                \n",
    "        if edad > 18:\n",
    "            print(\"Puedes conducir un automóvil.\")\n",
    "        else:\n",
    "            print(\"Lo siento, debes ser mayor de 18 años para poder conducir un automóvil.\")\n",
    "else:\n",
    "    print(\"Lo siento, necesitas tener carnet de conducir para poder conducir un automóvil.\")"
   ]
  },
  {
   "cell_type": "markdown",
   "metadata": {},
   "source": [
    "12) Pide al usuario un número y verifica si es positivo y no es mayor que 100."
   ]
  },
  {
   "cell_type": "code",
   "execution_count": 44,
   "metadata": {},
   "outputs": [
    {
     "name": "stdout",
     "output_type": "stream",
     "text": [
      "es positivo y menor que 100\n"
     ]
    }
   ],
   "source": [
    "numero = int(input(\"ingrese un numero:\"))\n",
    "if numero > 0 and numero < 100:\n",
    "    print(\"es positivo y menor que 100\")\n",
    "else: print (\"el numero es negativo o mayor a 100\")\n"
   ]
  },
  {
   "cell_type": "markdown",
   "metadata": {},
   "source": [
    "13) Crear un programa que valide si un número ingresado por el usuario es par y mayor que 20."
   ]
  },
  {
   "cell_type": "code",
   "execution_count": 5,
   "metadata": {},
   "outputs": [
    {
     "name": "stdout",
     "output_type": "stream",
     "text": [
      "numero incorrecto\n"
     ]
    }
   ],
   "source": [
    "numero = int(input(\"ingrese un numero:\"))\n",
    "if numero > 20 and numero%2==0 :\n",
    "    print (\"el numero es par y mayor a 20\")\n",
    "else: print (\"numero incorrecto\")"
   ]
  },
  {
   "cell_type": "markdown",
   "metadata": {},
   "source": [
    "14) Dada la variable **numero = 5**, realizar la operación necesaria para que número sea igual a 8. Luego imprimir en pantalla el nuevo valor de número y realizar una nueva operación para que el valor de número sea igual a 4 y mostrar en pantalla el nuevo valor."
   ]
  },
  {
   "cell_type": "code",
   "execution_count": 6,
   "metadata": {},
   "outputs": [
    {
     "name": "stdout",
     "output_type": "stream",
     "text": [
      "8\n",
      "4\n"
     ]
    }
   ],
   "source": [
    "numero = 5\n",
    "numero = numero +3\n",
    "print (numero)\n",
    "numero = numero -4\n",
    "print (numero)"
   ]
  },
  {
   "cell_type": "markdown",
   "metadata": {},
   "source": [
    "15) Dadas las variables altura = \"10\" y base = 5, calcular el área de un triángulo y mostrar el resultado en pantalla. ¿Por qué el resultado es un error? ¿Cómo lo corregirías?"
   ]
  },
  {
   "cell_type": "code",
   "execution_count": null,
   "metadata": {},
   "outputs": [],
   "source": [
    "altura = \"10\"\n",
    "base = 5\n",
    "\n",
    "altura_num = float(altura)\n",
    "\n",
    "area = (base * altura_num) / 2\n",
    "\n",
    "print(\"El área del triángulo es:\", area)\n",
    "\n",
    "#da error porque \"10\" es un string y hay que convertirl a numero"
   ]
  },
  {
   "cell_type": "markdown",
   "metadata": {},
   "source": [
    "16) Crea un programa que calcule el promedio de tres calificaciones ingresadas por el usuario, y comprobar si el alumno aprobó o no (aprueba con nota mayor a 6)."
   ]
  },
  {
   "cell_type": "code",
   "execution_count": 7,
   "metadata": {},
   "outputs": [
    {
     "name": "stdout",
     "output_type": "stream",
     "text": [
      "El alumno aprobó con un promedio de 7.333333333333333\n"
     ]
    }
   ],
   "source": [
    "\n",
    "calificacion1 = float(input(\"Ingrese la primera calificación: \"))\n",
    "calificacion2 = float(input(\"Ingrese la segunda calificación: \"))\n",
    "calificacion3 = float(input(\"Ingrese la tercera calificación: \"))\n",
    "\n",
    "\n",
    "promedio = (calificacion1 + calificacion2 + calificacion3) / 3\n",
    "\n",
    "\n",
    "if promedio >= 6:\n",
    "    print(\"El alumno aprobó con un promedio de\", promedio)\n",
    "else:\n",
    "    print(\"El alumno no aprobó con un promedio de\", promedio)\n"
   ]
  },
  {
   "cell_type": "markdown",
   "metadata": {},
   "source": [
    "17) Pide al usuario su edad y calcula cuántos días, horas y minutos ha vivido aproximadamente (asumiendo 365 días por año)."
   ]
  },
  {
   "cell_type": "code",
   "execution_count": 8,
   "metadata": {},
   "outputs": [
    {
     "name": "stdout",
     "output_type": "stream",
     "text": [
      "Ha vivido aproximadamente:\n",
      "- Días: 16790\n",
      "- Horas: 402960\n",
      "- Minutos: 24177600\n"
     ]
    }
   ],
   "source": [
    "\n",
    "edad = int(input(\"Ingrese su edad: \"))\n",
    "\n",
    "\n",
    "dias_vividos = edad * 365\n",
    "\n",
    "\n",
    "horas_vividas = dias_vividos * 24\n",
    "\n",
    "\n",
    "minutos_vividos = horas_vividas * 60\n",
    "\n",
    "\n",
    "print(\"Ha vivido aproximadamente:\")\n",
    "print(\"- Días:\", dias_vividos)\n",
    "print(\"- Horas:\", horas_vividas)\n",
    "print(\"- Minutos:\", minutos_vividos)\n"
   ]
  },
  {
   "cell_type": "markdown",
   "metadata": {},
   "source": [
    "18) Crea un programa que verifique si un número ingresado por el usuario es múltiplo de 4 y de 6 al mismo tiempo."
   ]
  },
  {
   "cell_type": "code",
   "execution_count": 9,
   "metadata": {},
   "outputs": [
    {
     "name": "stdout",
     "output_type": "stream",
     "text": [
      "7 no es múltiplo de 4 y 6 al mismo tiempo.\n"
     ]
    }
   ],
   "source": [
    "\n",
    "numero = int(input(\"Ingrese un número: \"))\n",
    "\n",
    "if numero % 4 == 0 and numero % 6 == 0:\n",
    "    print(numero, \"es múltiplo de 4 y 6 al mismo tiempo.\")\n",
    "else:\n",
    "    print(numero, \"no es múltiplo de 4 y 6 al mismo tiempo.\")\n"
   ]
  },
  {
   "cell_type": "markdown",
   "metadata": {},
   "source": [
    "19) "
   ]
  }
 ],
 "metadata": {
  "kernelspec": {
   "display_name": "Python 3",
   "language": "python",
   "name": "python3"
  },
  "language_info": {
   "codemirror_mode": {
    "name": "ipython",
    "version": 3
   },
   "file_extension": ".py",
   "mimetype": "text/x-python",
   "name": "python",
   "nbconvert_exporter": "python",
   "pygments_lexer": "ipython3",
   "version": "3.12.2"
  },
  "vscode": {
   "interpreter": {
    "hash": "1585586570035d0662ec19f0f06b455a769760e18775dc612d730b14e0f53e7e"
   }
  }
 },
 "nbformat": 4,
 "nbformat_minor": 2
}
