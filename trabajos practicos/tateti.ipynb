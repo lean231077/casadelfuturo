{
 "cells": [
  {
   "cell_type": "code",
   "execution_count": null,
   "metadata": {},
   "outputs": [
    {
     "ename": "",
     "evalue": "",
     "output_type": "error",
     "traceback": [
      "\u001b[1;31mNo se pudo iniciar el Kernel. \n",
      "\u001b[1;31mNo se puede iniciar Kernel 'Python 3.12.2' porque se agotó el tiempo de espera de la conexión. \n",
      "\u001b[1;31mVea el [registro] de Jupyter (command:jupyter.viewOutput) para obtener más detalles."
     ]
    }
   ],
   "source": [
    "def imprimir_tablero(tablero):\n",
    "    print(\"-------------\")\n",
    "    for fila in tablero:\n",
    "        print(\"|\", end=\" \")\n",
    "        for casilla in fila:\n",
    "            print(casilla, \"|\", end=\" \")\n",
    "        print(\"\\n-------------\")\n",
    "\n",
    "def verificar_ganador(tablero, jugador):\n",
    "    # Verificar filas y columnas\n",
    "    for i in range(3):\n",
    "        if tablero[i][0] == tablero[i][1] == tablero[i][2] == jugador or \\\n",
    "           tablero[0][i] == tablero[1][i] == tablero[2][i] == jugador:\n",
    "            return True\n",
    "    # Verificar diagonales\n",
    "    if tablero[0][0] == tablero[1][1] == tablero[2][2] == jugador or \\\n",
    "       tablero[0][2] == tablero[1][1] == tablero[2][0] == jugador:\n",
    "        return True\n",
    "    return False\n",
    "\n",
    "def jugar_tateti():\n",
    "    tablero = [[1, 2, 3],\n",
    "               [4, 5, 6],\n",
    "               [7, 8, 9]]\n",
    "    jugador_actual = \"X\"\n",
    "\n",
    "    while True:\n",
    "        imprimir_tablero(tablero)\n",
    "        jugada = int(input(f\"Turno del jugador {jugador_actual}. Ingrese el número de casilla (1-9): \"))\n",
    "        \n",
    "        # Verificar si la casilla está ocupada o si el número de casilla es inválido\n",
    "        fila = (jugada - 1) // 3\n",
    "        columna = (jugada - 1) % 3\n",
    "        if tablero[fila][columna] == \"X\" or tablero[fila][columna] == \"O\" or jugada < 1 or jugada > 9:\n",
    "            print(\"Casilla ocupada o número de casilla inválido. Intente nuevamente.\")\n",
    "            continue\n",
    "\n",
    "        # Realizar la jugada\n",
    "        tablero[fila][columna] = jugador_actual\n",
    "\n",
    "        # Verificar si hay un ganador\n",
    "        if verificar_ganador(tablero, jugador_actual):\n",
    "            imprimir_tablero(tablero)\n",
    "            print(f\"¡El jugador {jugador_actual} ha ganado!\")\n",
    "            break\n",
    "\n",
    "        # Verificar si hay un empate\n",
    "        if all(isinstance(casilla, str) for fila in tablero for casilla in fila):\n",
    "            imprimir_tablero(tablero)\n",
    "            print(\"¡Empate!\")\n",
    "            break\n",
    "\n",
    "        # Cambiar al otro jugador\n",
    "        jugador_actual = \"O\" if jugador_actual == \"X\" else \"X\"\n",
    "\n",
    "# Iniciar el juego\n",
    "jugar_tateti()\n"
   ]
  }
 ],
 "metadata": {
  "kernelspec": {
   "display_name": "Python 3",
   "language": "python",
   "name": "python3"
  },
  "language_info": {
   "codemirror_mode": {
    "name": "ipython",
    "version": 3
   },
   "file_extension": ".py",
   "mimetype": "text/x-python",
   "name": "python",
   "nbconvert_exporter": "python",
   "pygments_lexer": "ipython3",
   "version": "3.12.2 (tags/v3.12.2:6abddd9, Feb  6 2024, 21:26:36) [MSC v.1937 64 bit (AMD64)]"
  },
  "orig_nbformat": 4,
  "vscode": {
   "interpreter": {
    "hash": "1585586570035d0662ec19f0f06b455a769760e18775dc612d730b14e0f53e7e"
   }
  }
 },
 "nbformat": 4,
 "nbformat_minor": 2
}
